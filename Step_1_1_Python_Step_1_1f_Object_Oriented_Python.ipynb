{
  "nbformat": 4,
  "nbformat_minor": 0,
  "metadata": {
    "colab": {
      "name": "Step 1-1 Python/Step_1_1f_Object_Oriented_Python.ipynb",
      "provenance": []
    },
    "kernelspec": {
      "name": "python3",
      "display_name": "Python 3"
    },
    "language_info": {
      "name": "python"
    }
  },
  "cells": [
    {
      "cell_type": "code",
      "metadata": {
        "colab": {
          "base_uri": "https://localhost:8080/"
        },
        "id": "5ILM-znanAqv",
        "outputId": "16117864-07c4-432f-fbb7-69ae763e626b"
      },
      "source": [
        "# create an empty class called `Person`\n",
        "# (NOTE: class names always begin with a capital letter!)\n",
        "class Person:\n",
        "    pass # empty block\n",
        "\n",
        "# Create object `p` from class `Person`\n",
        "p = Person()\n",
        "\n",
        "# Print `p` \n",
        "print(p)"
      ],
      "execution_count": 1,
      "outputs": [
        {
          "output_type": "stream",
          "text": [
            "<__main__.Person object at 0x7f3f1ef75a50>\n"
          ],
          "name": "stdout"
        }
      ]
    },
    {
      "cell_type": "code",
      "metadata": {
        "colab": {
          "base_uri": "https://localhost:8080/"
        },
        "id": "75-Un48Uzpro",
        "outputId": "eb80e2b0-1d78-4ede-bd6c-aa3a075b9f15"
      },
      "source": [
        "# create a class called `Person`\n",
        "class Person:\n",
        "    # create a new built in method called say_hi\n",
        "    def say_hi(self):\n",
        "        print('Hello, how are you?')\n",
        "\n",
        "# instantiate object `p` from `Person` class\n",
        "p = Person()\n",
        "\n",
        "# run the built-in method from object `p`\n",
        "p.say_hi()"
      ],
      "execution_count": 2,
      "outputs": [
        {
          "output_type": "stream",
          "text": [
            "Hello, how are you?\n"
          ],
          "name": "stdout"
        }
      ]
    },
    {
      "cell_type": "code",
      "metadata": {
        "colab": {
          "base_uri": "https://localhost:8080/"
        },
        "id": "KldDeLopzuaA",
        "outputId": "e92e10b1-28d7-4c42-a2c8-93ea214a9e65"
      },
      "source": [
        "\n",
        "# create Class called `Person`\n",
        "class Person:\n",
        "    \n",
        "    # create the __init__ constructor function \n",
        "    def __init__(self,name):\n",
        "        self.name = name # object variable\n",
        "    \n",
        "    # create method called say_hi\n",
        "    # this will be a built-in function for this class `Person`\n",
        "    def say_hi(self):\n",
        "        print('Hello, my name is ', self.name)\n",
        "\n",
        "# instatiate an object `p` from class `Person`\n",
        "# remember to input the `name` as Class argument\n",
        "p = Person('Haile')\n",
        "\n",
        "# call built-in method\n",
        "p.say_hi()"
      ],
      "execution_count": 4,
      "outputs": [
        {
          "output_type": "stream",
          "text": [
            "Hello, my name is  Haile\n"
          ],
          "name": "stdout"
        }
      ]
    },
    {
      "cell_type": "code",
      "metadata": {
        "colab": {
          "base_uri": "https://localhost:8080/"
        },
        "id": "t-FTAPkuz447",
        "outputId": "2da873d9-02e9-4f3f-b457-c9798975eb01"
      },
      "source": [
        "# Docstrings Example\n",
        "\n",
        "def is_even(num):\n",
        "  # Docstring\n",
        "  \"\"\"\n",
        "  Input: an integer\n",
        "  Output: if input is even (True for even, False for not)\n",
        "  \"\"\"\n",
        "  return num % 2 == 0\n",
        "\n",
        "help(is_even)"
      ],
      "execution_count": 6,
      "outputs": [
        {
          "output_type": "stream",
          "text": [
            "Help on function is_even in module __main__:\n",
            "\n",
            "is_even(num)\n",
            "    Input: an integer\n",
            "    Output: if input is even (True for even, False for not)\n",
            "\n"
          ],
          "name": "stdout"
        }
      ]
    },
    {
      "cell_type": "code",
      "metadata": {
        "colab": {
          "base_uri": "https://localhost:8080/"
        },
        "id": "EgHdXD4T0An7",
        "outputId": "8da8d8c7-fb83-42e7-81fa-6ac9118d50f6"
      },
      "source": [
        "# `.format()` example\n",
        "\n",
        "pi_value = 3.14\n",
        "print(\"The value of Pi is {}\".format(pi_value))"
      ],
      "execution_count": 7,
      "outputs": [
        {
          "output_type": "stream",
          "text": [
            "The value of Pi is 3.14\n"
          ],
          "name": "stdout"
        }
      ]
    },
    {
      "cell_type": "code",
      "metadata": {
        "id": "Bg1Bk5nv0Kpl"
      },
      "source": [
        "# Define a class called Robot\n",
        "class Robot:\n",
        "  \"\"\"Represents a robot, with a name.\"\"\" # Docstrings\n",
        "\n",
        "  # Class Variable: population\n",
        "  population = 0\n",
        "\n",
        "  # Constructor Function: __init__()\n",
        "  def __init__(self, name):\n",
        "      \"\"\"Initializes the data.\"\"\" # Docstrings\n",
        "      self.name = name # Object Variable\n",
        "      print(\"(Initializing {})\".format(self.name))\n",
        "\n",
        "      # When a new robot is created, the robot\n",
        "      # adds to the population\n",
        "      Robot.population += 1\n",
        "\n",
        "  # Object Method: die()\n",
        "  def die(self):\n",
        "      \"\"\"I am dying.\"\"\" # Docstrings\n",
        "      print(\"{} is being destroyed!\".format(self.name))\n",
        "\n",
        "      Robot.population -= 1\n",
        "\n",
        "      if Robot.population == 0:\n",
        "          print(\"{} was the last one.\".format(self.name))\n",
        "      else:\n",
        "          print(\"There are still {:d} robots working.\".format(\n",
        "              Robot.population))\n",
        "\n",
        "  # Object Method: say_hi()\n",
        "  def say_hi(self):\n",
        "      \"\"\"Greeting by the robot. \n",
        "      Yeah, they can do that.\"\"\" # Docstrings\n",
        "      print(\"Greetings, my masters call me {}.\".format(self.name))\n",
        "\n",
        "  # Class Method: how_many() \n",
        "  @classmethod\n",
        "  def how_many(cls):\n",
        "      \"\"\"Prints the current population.\"\"\" # Docstrings\n",
        "      print(\"We have {:d} robots.\".format(cls.population))"
      ],
      "execution_count": 10,
      "outputs": []
    },
    {
      "cell_type": "code",
      "metadata": {
        "colab": {
          "base_uri": "https://localhost:8080/"
        },
        "id": "7l_N11p40VnJ",
        "outputId": "c9fe50d0-b818-4108-8da2-ebb3c84889d4"
      },
      "source": [
        "# Using the above Robot Class setup\n",
        "\n",
        "#------------------------------------------------------\n",
        "# Initialize Robot 1 called 'R2-D2' in `droid1`\n",
        "droid1 = Robot(\"R2-D2\")\n",
        "\n",
        "# Call the Built-In Object Function for `droid1`\n",
        "droid1.say_hi()\n",
        "\n",
        "# Call the Class Function\n",
        "Robot.how_many()\n",
        "\n",
        "#------------------------------------------------------\n",
        "# Initialize Robot 2 called 'C-3PO' \n",
        "droid2 = Robot(\"C-3PO\")\n",
        "\n",
        "# Call the Built-In Object Function for droid2\n",
        "droid2.say_hi()\n",
        "\n",
        "# Call the Class Function\n",
        "Robot.how_many()\n",
        "\n",
        "#------------------------------------------------------\n",
        "# Print a note about Robots working\n",
        "print(\"\\nRobots can do some work here.\\n\")\n",
        "\n",
        "# Print a note about destroying Robots\n",
        "print(\"Robots have finished their work. So let's destroy them.\")\n",
        "\n",
        "#------------------------------------------------------\n",
        "# Use Built-In Object Functions \n",
        "droid1.die()\n",
        "droid2.die()\n",
        "\n",
        "# Call the Class Function\n",
        "Robot.how_many()"
      ],
      "execution_count": 11,
      "outputs": [
        {
          "output_type": "stream",
          "text": [
            "(Initializing R2-D2)\n",
            "Greetings, my masters call me R2-D2.\n",
            "We have 1 robots.\n",
            "(Initializing C-3PO)\n",
            "Greetings, my masters call me C-3PO.\n",
            "We have 2 robots.\n",
            "\n",
            "Robots can do some work here.\n",
            "\n",
            "Robots have finished their work. So let's destroy them.\n",
            "R2-D2 is being destroyed!\n",
            "There are still 1 robots working.\n",
            "C-3PO is being destroyed!\n",
            "C-3PO was the last one.\n",
            "We have 0 robots.\n"
          ],
          "name": "stdout"
        }
      ]
    },
    {
      "cell_type": "code",
      "metadata": {
        "id": "1cJ3Uvq50btv"
      },
      "source": [
        "class SchoolMember:\n",
        "    '''Represents any school member.'''\n",
        "    def __init__(self, name, age):\n",
        "        self.name = name\n",
        "        self.age = age\n",
        "        print('(Initialized SchoolMember: {})'.format(self.name))\n",
        "\n",
        "    def tell(self):\n",
        "        '''Tell my details.'''\n",
        "        print('Name:\"{}\" Age:\"{}\"'.format(self.name, self.age), end=\" \")"
      ],
      "execution_count": 12,
      "outputs": []
    },
    {
      "cell_type": "code",
      "metadata": {
        "id": "lnMxJnf70fa1"
      },
      "source": [
        "class Teacher(SchoolMember):\n",
        "    '''Represents a teacher.'''\n",
        "    def __init__(self, name, age, salary):\n",
        "        SchoolMember.__init__(self, name, age)\n",
        "        self.salary = salary\n",
        "        print('(Initialized Teacher: {})'.format(self.name))\n",
        "\n",
        "    def tell(self):\n",
        "        SchoolMember.tell(self)\n",
        "        print('Salary: \"{:d}\"'.format(self.salary))"
      ],
      "execution_count": 15,
      "outputs": []
    },
    {
      "cell_type": "code",
      "metadata": {
        "id": "c3kngHwA0nXz"
      },
      "source": [
        "class Student(SchoolMember):\n",
        "    '''Represents a student.'''\n",
        "    def __init__(self, name, age, grade):\n",
        "        SchoolMember.__init__(self, name, age)\n",
        "        self.grade = grade\n",
        "        print('(Initialized Student: {})'.format(self.name))\n",
        "\n",
        "    def tell(self):\n",
        "        SchoolMember.tell(self)\n",
        "        print('Grade: \"{:d}\"'.format(self.grade))"
      ],
      "execution_count": 16,
      "outputs": []
    },
    {
      "cell_type": "code",
      "metadata": {
        "colab": {
          "base_uri": "https://localhost:8080/"
        },
        "id": "gBHjoIFX0rJP",
        "outputId": "5c8ecfab-48d9-4042-d701-74c6c1fdb432"
      },
      "source": [
        "# initialize `t` - teacher object \n",
        "t = Teacher('Mrs. Alyssa', 40, 30000)\n",
        "# name: Mrs. Alyssa\n",
        "# age: 40\n",
        "# salary: 30000\n",
        "\n",
        "# prints a blank line\n",
        "print()\n",
        "\n",
        "# initialize `s` - student object\n",
        "s = Student('Daniel', 25, 75)\n",
        "# name: Daniel\n",
        "# age: 25\n",
        "# grade: 75\n",
        "\n",
        "# prints a blank line\n",
        "print()\n",
        "\n",
        "members = [t, s]\n",
        "for member in members:\n",
        "    # Works for both Teachers and Students\n",
        "    member.tell()"
      ],
      "execution_count": 17,
      "outputs": [
        {
          "output_type": "stream",
          "text": [
            "(Initialized SchoolMember: Mrs. Alyssa)\n",
            "(Initialized Teacher: Mrs. Alyssa)\n",
            "\n",
            "(Initialized SchoolMember: Daniel)\n",
            "(Initialized Student: Daniel)\n",
            "\n",
            "Name:\"Mrs. Alyssa\" Age:\"40\" Salary: \"30000\"\n",
            "Name:\"Daniel\" Age:\"25\" Grade: \"75\"\n"
          ],
          "name": "stdout"
        }
      ]
    },
    {
      "cell_type": "code",
      "metadata": {
        "colab": {
          "base_uri": "https://localhost:8080/"
        },
        "id": "zB1fXGMI02Ml",
        "outputId": "be2f66fe-6616-48c3-c739-4f8e4114fa10"
      },
      "source": [
        "# initialize a new Robot class \n",
        "class Robot:\n",
        "\n",
        "  # constructor function\n",
        "  def __init__(self):\n",
        "    self.__version = 22\n",
        "\n",
        "  # getter function\n",
        "  def getVersion(self):\n",
        "    print(self.__version)\n",
        "\n",
        "  # setter function\n",
        "  def setVersion(self, version):\n",
        "    self.__version = version\n",
        "\n",
        "# instantiate a new object called 'new_robot'\n",
        "new_robot = Robot()\n",
        "\n",
        "# use the getter function\n",
        "new_robot.getVersion()"
      ],
      "execution_count": 19,
      "outputs": [
        {
          "output_type": "stream",
          "text": [
            "22\n"
          ],
          "name": "stdout"
        }
      ]
    },
    {
      "cell_type": "code",
      "metadata": {
        "colab": {
          "base_uri": "https://localhost:8080/"
        },
        "id": "H8JfpLxT05GA",
        "outputId": "26953b03-1ffe-4380-9a72-d1f0f770b088"
      },
      "source": [
        "\n",
        "# use the built in setter function\n",
        "new_robot.setVersion(23)\n",
        "\n",
        "# use the getter function again\n",
        "new_robot.getVersion()"
      ],
      "execution_count": 20,
      "outputs": [
        {
          "output_type": "stream",
          "text": [
            "23\n"
          ],
          "name": "stdout"
        }
      ]
    },
    {
      "cell_type": "code",
      "metadata": {
        "id": "fCTuuZVs0-HF"
      },
      "source": [
        "# imported abstract base class  \n",
        "\n",
        "from abc import ABC, abstractmethod \n",
        "\n",
        "# Parent Abstract Method ---------------------------------------------------\n",
        "class Polygon(ABC): \n",
        "\n",
        "\t# abstract method inside the parent Abstract Class\n",
        "\tdef noofsides(self): \n",
        "\t\tpass\n",
        "\n",
        "# Child Class #1 of Polygon Parent Abstract Class --------------------------\n",
        "class Triangle(Polygon): \n",
        "\n",
        "\t# overriding abstract method \n",
        "\tdef noofsides(self): \n",
        "\t\tprint(\"I have 3 sides\") \n",
        "\n",
        "# Child Class #2 of Polygon Parent Abstract Class --------------------------\n",
        "class Pentagon(Polygon): \n",
        "\n",
        "\t# overriding abstract method \n",
        "\tdef noofsides(self): \n",
        "\t\tprint(\"I have 5 sides\") \n",
        "\n",
        "# Child Class #3 of Polygon Parent Abstract Class --------------------------\n",
        "class Hexagon(Polygon): \n",
        "\n",
        "\t# overriding abstract method \n",
        "\tdef noofsides(self): \n",
        "\t\tprint(\"I have 6 sides\") \n",
        "\n",
        "# Child Class #4 of Polygon Parent Abstract Class --------------------------\n",
        "class Quadrilateral(Polygon): \n",
        "\n",
        "\t# overriding abstract method \n",
        "\tdef noofsides(self): \n",
        "\t\tprint(\"I have 4 sides\")"
      ],
      "execution_count": 21,
      "outputs": []
    },
    {
      "cell_type": "code",
      "metadata": {
        "colab": {
          "base_uri": "https://localhost:8080/"
        },
        "id": "gi4IO8Fx1CII",
        "outputId": "77f3fcea-699f-401a-e9fc-85b03a0b70a7"
      },
      "source": [
        "# Create Objects from Children Classes \n",
        "\n",
        "# Triangle Child Class Object\n",
        "R = Triangle() \n",
        "R.noofsides() \n",
        "\n",
        "# Quadilateral Child Class Object\n",
        "K = Quadrilateral() \n",
        "K.noofsides() \n",
        "\n",
        "# Pentagon Child Class Object\n",
        "R = Pentagon() \n",
        "R.noofsides() \n",
        "\n",
        "# Hexagon Child Class Object\n",
        "K = Hexagon() \n",
        "K.noofsides()"
      ],
      "execution_count": 22,
      "outputs": [
        {
          "output_type": "stream",
          "text": [
            "I have 3 sides\n",
            "I have 4 sides\n",
            "I have 5 sides\n",
            "I have 6 sides\n"
          ],
          "name": "stdout"
        }
      ]
    },
    {
      "cell_type": "code",
      "metadata": {
        "id": "ABsPW11z1FtO"
      },
      "source": [
        "# Python program invoking a \n",
        "# method using super() \n",
        "\n",
        "from abc import ABC, abstractmethod \n",
        "\n",
        "# create a parent Abstract Class\n",
        "class Parent(ABC): \n",
        "  # define concrete method in abstract class\n",
        "\tdef rk(self): \n",
        "\t\tprint(\"Abstract Base Class\") \n",
        "\n",
        "# create a child Concrete Class\n",
        "class Child(Parent): \n",
        "  # extend \n",
        "\tdef rk(self): \n",
        "\t\tsuper().rk() \n",
        "\t\tprint(\"subclass \")"
      ],
      "execution_count": 23,
      "outputs": []
    },
    {
      "cell_type": "code",
      "metadata": {
        "colab": {
          "base_uri": "https://localhost:8080/"
        },
        "id": "XD4zQG9N1JMO",
        "outputId": "e7304086-476c-4078-f14b-5538e0272afd"
      },
      "source": [
        "# create new object from Concrete Class\n",
        "new_object = Child() \n",
        "new_object.rk()"
      ],
      "execution_count": 25,
      "outputs": [
        {
          "output_type": "stream",
          "text": [
            "Abstract Base Class\n",
            "subclass \n"
          ],
          "name": "stdout"
        }
      ]
    },
    {
      "cell_type": "code",
      "metadata": {
        "colab": {
          "base_uri": "https://localhost:8080/"
        },
        "id": "W7fEbxTz1OXm",
        "outputId": "39755368-48e6-4c77-a63d-6073299c81f5"
      },
      "source": [
        "# Python program showing abstract properties \n",
        "\n",
        "import abc \n",
        "from abc import ABC, abstractmethod \n",
        "\n",
        "# create a parent Abstract Class\n",
        "class parent(ABC): \n",
        "\t@abc.abstractproperty # abstract property\n",
        "\tdef geeks(self): \n",
        "\t\treturn \"parent class\"\n",
        "\n",
        "# create a child Concrete Class\n",
        "class child(parent): \n",
        "\t@property # reference abstact property\n",
        "\tdef geeks(self): \n",
        "\t\treturn \"child class\"\n",
        "\n",
        "try: \n",
        "\tnew_object = parent() \n",
        "\tprint(new_object.geeks) \n",
        "except Exception as err: \n",
        "\tprint (err) \n",
        "\n",
        "new_object = child() \n",
        "print(new_object.geeks)"
      ],
      "execution_count": 26,
      "outputs": [
        {
          "output_type": "stream",
          "text": [
            "Can't instantiate abstract class parent with abstract methods geeks\n",
            "child class\n"
          ],
          "name": "stdout"
        }
      ]
    },
    {
      "cell_type": "code",
      "metadata": {
        "colab": {
          "base_uri": "https://localhost:8080/"
        },
        "id": "lR9wGHqX1Z8f",
        "outputId": "ed7a5265-ff6c-481f-b89e-01d784b106fe"
      },
      "source": [
        "## Create class called Team\n",
        "class Team:\n",
        "\n",
        "  # define constructor\n",
        "  def __init__(self, members):\n",
        "      self.__members = members\n",
        "\n",
        "  # define built-in length method\n",
        "  def __len__(self):\n",
        "      return len(self.__members)\n",
        "\n",
        "  # define membership method\n",
        "  def __contains__(self, member):\n",
        "      return member in self.__members\n",
        "\n",
        "## Instantiate object from Team Class \n",
        "justice_league_fav = Team([\"batman\", \"wonder woman\", \"flash\"])\n",
        "\n",
        "## Size protocol\n",
        "print(len(justice_league_fav))\n",
        "\n",
        "## Membership protocol\n",
        "print(\"batman\" in justice_league_fav)\n",
        "print(\"superman\" in justice_league_fav)\n",
        "print(\"cyborg\" not in justice_league_fav)"
      ],
      "execution_count": 29,
      "outputs": [
        {
          "output_type": "stream",
          "text": [
            "3\n",
            "True\n",
            "False\n",
            "True\n"
          ],
          "name": "stdout"
        }
      ]
    },
    {
      "cell_type": "code",
      "metadata": {
        "id": "zFaKaRRX1dG9"
      },
      "source": [
        "import abc\n",
        "\n",
        "class Bird(abc.ABC):\n",
        "    @abc.abstractmethod\n",
        "    def fly(self):\n",
        "        pass\n",
        "\n"
      ],
      "execution_count": 30,
      "outputs": []
    },
    {
      "cell_type": "code",
      "metadata": {
        "colab": {
          "base_uri": "https://localhost:8080/"
        },
        "id": "AIZUfBZz1h6m",
        "outputId": "70c287af-5b50-4709-962b-b0615d91f305"
      },
      "source": [
        "class Parrot(Bird):\n",
        "    def fly(self):\n",
        "        print(\"Flying\")\n",
        "\n",
        "p = Parrot()\n",
        "\n",
        "# check if p is an instance of Bird Class\n",
        "isinstance(p, Bird)"
      ],
      "execution_count": 32,
      "outputs": [
        {
          "output_type": "execute_result",
          "data": {
            "text/plain": [
              "True"
            ]
          },
          "metadata": {},
          "execution_count": 32
        }
      ]
    },
    {
      "cell_type": "code",
      "metadata": {
        "colab": {
          "base_uri": "https://localhost:8080/"
        },
        "id": "xS3bv8kd1nd4",
        "outputId": "cb884550-1f06-433b-a751-fb99a817c6be"
      },
      "source": [
        "class Aeroplane(abc.ABC):\n",
        "  @abc.abstractmethod\n",
        "  def fly(self):\n",
        "    pass\n",
        "\n",
        "class Boeing(Aeroplane):\n",
        "  def fly(self):\n",
        "    print(\"Flying!\")\n",
        "\n",
        "b = Boeing()\n",
        "\n",
        "isinstance(p, Aeroplane)\n",
        "isinstance(b, Bird)"
      ],
      "execution_count": 33,
      "outputs": [
        {
          "output_type": "execute_result",
          "data": {
            "text/plain": [
              "False"
            ]
          },
          "metadata": {},
          "execution_count": 33
        }
      ]
    },
    {
      "cell_type": "code",
      "metadata": {
        "id": "Ls48GHaL1qYf"
      },
      "source": [
        "## define `apple` and `banana` parent classes\n",
        "class Apple(abc.ABC):\n",
        "  @abc.abstractmethod\n",
        "  def apple_one(self):\n",
        "    pass\n",
        "\n",
        "class Banana(abc.ABC):\n",
        "  @abc.abstractmethod\n",
        "  def banana_one(self):\n",
        "    pass\n",
        "\n",
        "## define child class from Apple and Banana\n",
        "class Fruits(Apple, Banana):\n",
        "  \n",
        "  def apple_one(self):\n",
        "    print(\"Child Class - Apple\")\n",
        "\n",
        "  def banana_one(self):\n",
        "    print(\"Child Class - Banana\")"
      ],
      "execution_count": 34,
      "outputs": []
    }
  ]
}