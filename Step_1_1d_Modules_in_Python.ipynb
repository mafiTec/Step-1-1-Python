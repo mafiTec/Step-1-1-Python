{
  "nbformat": 4,
  "nbformat_minor": 0,
  "metadata": {
    "colab": {
      "name": "Step_1_1d_Modules_in_Python.ipynb",
      "provenance": [],
      "collapsed_sections": []
    },
    "kernelspec": {
      "name": "python3",
      "display_name": "Python 3"
    },
    "language_info": {
      "name": "python"
    }
  },
  "cells": [
    {
      "cell_type": "code",
      "metadata": {
        "id": "_sBxq7A1mB-O"
      },
      "source": [
        ""
      ],
      "execution_count": null,
      "outputs": []
    },
    {
      "cell_type": "markdown",
      "metadata": {
        "id": "loKiBQwBmCqJ"
      },
      "source": [
        "Use a MOdule"
      ]
    },
    {
      "cell_type": "code",
      "metadata": {
        "id": "Ro8rcQjNX1sI",
        "colab": {
          "base_uri": "https://localhost:8080/"
        },
        "outputId": "d53e173a-c222-4329-a690-d116c09debce"
      },
      "source": [
        "# import model\n",
        "import mymodule\n",
        "\n",
        "# use the function greeting from mymodule \n",
        "mymodule.greeting(\"haile\")"
      ],
      "execution_count": 1,
      "outputs": [
        {
          "output_type": "stream",
          "text": [
            "Hello, haile\n"
          ],
          "name": "stdout"
        }
      ]
    },
    {
      "cell_type": "markdown",
      "metadata": {
        "id": "f2_EL0FMHV_x"
      },
      "source": [
        "Aliasing a Module"
      ]
    },
    {
      "cell_type": "code",
      "metadata": {
        "colab": {
          "base_uri": "https://localhost:8080/"
        },
        "id": "zM-vYytwHgmf",
        "outputId": "7a09d883-ac16-4f6a-c6d6-95278ce23290"
      },
      "source": [
        "# import mymodule with alias 'mm'\n",
        "import mymodule as mm\n",
        "\n",
        "# call the function greeting from alias 'mm'\n",
        "mm.greeting(\"haile\")"
      ],
      "execution_count": null,
      "outputs": [
        {
          "output_type": "stream",
          "text": [
            "Hello,haile\n"
          ],
          "name": "stdout"
        }
      ]
    },
    {
      "cell_type": "markdown",
      "metadata": {
        "id": "XxJEV_fVHvso"
      },
      "source": [
        "Built-in Module"
      ]
    },
    {
      "cell_type": "code",
      "metadata": {
        "colab": {
          "base_uri": "https://localhost:8080/"
        },
        "id": "X9uaVndHIC6q",
        "outputId": "5a4e564e-8a42-4d64-d29a-2cf7d5014e91"
      },
      "source": [
        "# import datetime module\n",
        "import datetime\n",
        "\n",
        "# .now() is a built-in datetime function\n",
        "time_now = datetime.datetime.now()\n",
        "\n",
        "# print time now\n",
        "print(time_now)\n",
        "\n",
        "# print year only\n",
        "print(time_now.year)\n",
        "\n",
        "# print day only\n",
        "print(time_now.strftime(\"%A\"))"
      ],
      "execution_count": null,
      "outputs": [
        {
          "output_type": "stream",
          "text": [
            "2021-08-23 19:51:14.138700\n",
            "2021\n",
            "Monday\n"
          ],
          "name": "stdout"
        }
      ]
    },
    {
      "cell_type": "markdown",
      "metadata": {
        "id": "_3pHpRHgIRWc"
      },
      "source": [
        "creat a Datetime object"
      ]
    },
    {
      "cell_type": "code",
      "metadata": {
        "colab": {
          "base_uri": "https://localhost:8080/",
          "height": 197
        },
        "id": "spitv74ZklBB",
        "outputId": "8f234beb-0b3a-4cdf-e6bf-3900da202a11"
      },
      "source": [
        "new_date = datetime.datetime(2021, 8, 23)\n",
        "\n",
        "print(new_date)"
      ],
      "execution_count": null,
      "outputs": [
        {
          "output_type": "error",
          "ename": "NameError",
          "evalue": "ignored",
          "traceback": [
            "\u001b[0;31m---------------------------------------------------------------------------\u001b[0m",
            "\u001b[0;31mNameError\u001b[0m                                 Traceback (most recent call last)",
            "\u001b[0;32m<ipython-input-4-f240591435ba>\u001b[0m in \u001b[0;36m<module>\u001b[0;34m()\u001b[0m\n\u001b[0;32m----> 1\u001b[0;31m \u001b[0mnew_date\u001b[0m \u001b[0;34m=\u001b[0m \u001b[0mdatetime\u001b[0m\u001b[0;34m.\u001b[0m\u001b[0mdatetime\u001b[0m\u001b[0;34m(\u001b[0m\u001b[0;36m2021\u001b[0m\u001b[0;34m,\u001b[0m \u001b[0;36m8\u001b[0m\u001b[0;34m,\u001b[0m \u001b[0;36m23\u001b[0m\u001b[0;34m)\u001b[0m\u001b[0;34m\u001b[0m\u001b[0;34m\u001b[0m\u001b[0m\n\u001b[0m\u001b[1;32m      2\u001b[0m \u001b[0;34m\u001b[0m\u001b[0m\n\u001b[1;32m      3\u001b[0m \u001b[0mprint\u001b[0m\u001b[0;34m(\u001b[0m\u001b[0mnew_date\u001b[0m\u001b[0;34m)\u001b[0m\u001b[0;34m\u001b[0m\u001b[0;34m\u001b[0m\u001b[0m\n",
            "\u001b[0;31mNameError\u001b[0m: name 'datetime' is not defined"
          ]
        }
      ]
    },
    {
      "cell_type": "code",
      "metadata": {
        "colab": {
          "base_uri": "https://localhost:8080/"
        },
        "id": "ydvlUGDwkqY_",
        "outputId": "e1c7f7d1-0734-4568-aded-c0325272fc1a"
      },
      "source": [
        "# Create a Data\n",
        "x = datetime.datetime(2021, 8, 23)\n",
        "\n",
        "# Get the Weekday name\n",
        "print(x.strftime(\"%A\"))\n",
        "\n",
        "# Get the Month name\n",
        "print(x.strftime(\"%B\"))\n",
        "\n",
        "# Get the Weekday name\n",
        "print(x.strftime(\"%d\"))\n",
        "\n",
        "# Get the Weekday name\n",
        "print(x.strftime(\"%Y\"))"
      ],
      "execution_count": null,
      "outputs": [
        {
          "output_type": "stream",
          "text": [
            "Monday\n",
            "August\n",
            "23\n",
            "2021\n"
          ],
          "name": "stdout"
        }
      ]
    },
    {
      "cell_type": "markdown",
      "metadata": {
        "id": "GNpB2gZxkwQP"
      },
      "source": [
        "Math module "
      ]
    },
    {
      "cell_type": "code",
      "metadata": {
        "colab": {
          "base_uri": "https://localhost:8080/"
        },
        "id": "E-mPkRkfk03O",
        "outputId": "0a626c29-b5b6-4094-bdbc-7be27bf5a77a"
      },
      "source": [
        "# import math module\n",
        "import math\n",
        "\n",
        "sq_root = math.sqrt(64) # finds the square root\n",
        "\n",
        "print(sq_root)"
      ],
      "execution_count": null,
      "outputs": [
        {
          "output_type": "stream",
          "text": [
            "8.0\n"
          ],
          "name": "stdout"
        }
      ]
    },
    {
      "cell_type": "markdown",
      "metadata": {
        "id": "6jYVg7pPlE--"
      },
      "source": [
        "math ceil and floor"
      ]
    },
    {
      "cell_type": "code",
      "metadata": {
        "colab": {
          "base_uri": "https://localhost:8080/"
        },
        "id": "-8Az2u8Lk_UN",
        "outputId": "906dd4ea-be09-4f3e-e4fb-15d0e1472057"
      },
      "source": [
        "round_higher = math.ceil(1.4) # round up\n",
        "round_lower = math.floor(1.4) # round down\n",
        "\n",
        "print(round_higher) \n",
        "print(round_lower)"
      ],
      "execution_count": null,
      "outputs": [
        {
          "output_type": "stream",
          "text": [
            "2\n",
            "1\n"
          ],
          "name": "stdout"
        }
      ]
    },
    {
      "cell_type": "markdown",
      "metadata": {
        "id": "QTidjVbzlLNQ"
      },
      "source": [
        "math constant"
      ]
    },
    {
      "cell_type": "code",
      "metadata": {
        "colab": {
          "base_uri": "https://localhost:8080/"
        },
        "id": "SGjjiRWClOQW",
        "outputId": "81ae165d-37a6-455d-cc50-ce7b1c1dc002"
      },
      "source": [
        "pi_value = math.pi # get the pi constant\n",
        "\n",
        "print(pi_value)"
      ],
      "execution_count": null,
      "outputs": [
        {
          "output_type": "stream",
          "text": [
            "3.141592653589793\n"
          ],
          "name": "stdout"
        }
      ]
    },
    {
      "cell_type": "markdown",
      "metadata": {
        "id": "I7OYvA3wlRvM"
      },
      "source": [
        "random module - built-in module"
      ]
    },
    {
      "cell_type": "code",
      "metadata": {
        "colab": {
          "base_uri": "https://localhost:8080/"
        },
        "id": "QVC9VUGBlYkr",
        "outputId": "d4a7c4f8-b568-4792-dd79-553d8f31d796"
      },
      "source": [
        "# import the random module\n",
        "import random\n",
        "\n",
        "# generate random integer between 0 and 9 \n",
        "random_integer = random.randint(0,9)\n",
        "print(random_integer)"
      ],
      "execution_count": null,
      "outputs": [
        {
          "output_type": "stream",
          "text": [
            "3\n"
          ],
          "name": "stdout"
        }
      ]
    },
    {
      "cell_type": "code",
      "metadata": {
        "colab": {
          "base_uri": "https://localhost:8080/"
        },
        "id": "zo2VEJoGlgxO",
        "outputId": "820fa3d3-b254-4dcc-ab2d-5ce178c79041"
      },
      "source": [
        "# generate random number between 0 and 9\n",
        "random_number = random.randrange(9)\n",
        "print(random_number)"
      ],
      "execution_count": null,
      "outputs": [
        {
          "output_type": "stream",
          "text": [
            "6\n"
          ],
          "name": "stdout"
        }
      ]
    }
  ]
}