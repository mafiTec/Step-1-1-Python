{
  "nbformat": 4,
  "nbformat_minor": 0,
  "metadata": {
    "colab": {
      "name": "Step_1_1g_Python_Foundations_04.ipynb",
      "provenance": []
    },
    "kernelspec": {
      "name": "python3",
      "display_name": "Python 3"
    },
    "language_info": {
      "name": "python"
    }
  },
  "cells": [
    {
      "cell_type": "code",
      "metadata": {
        "id": "So-EfDwB6E6B"
      },
      "source": [
        ""
      ],
      "execution_count": null,
      "outputs": []
    },
    {
      "cell_type": "markdown",
      "metadata": {
        "id": "0TrcK7gO6L09"
      },
      "source": [
        "Dictionaries"
      ]
    },
    {
      "cell_type": "code",
      "metadata": {
        "colab": {
          "base_uri": "https://localhost:8080/"
        },
        "id": "z848V_GI6PJu",
        "outputId": "d8b41035-e529-4736-a945-cec547ab285e"
      },
      "source": [
        "# creat dictionary \n",
        "car_info_dict = {\"brand\":\"Ford\",\"model\":\"Mustang\",\"year\":1964}\n",
        "\n",
        "#print dictionary \n",
        "print(car_info_dict)"
      ],
      "execution_count": 2,
      "outputs": [
        {
          "output_type": "stream",
          "text": [
            "{'brand': 'Ford', 'model': 'Mustang', 'year': 1964}\n"
          ],
          "name": "stdout"
        }
      ]
    },
    {
      "cell_type": "code",
      "metadata": {
        "colab": {
          "base_uri": "https://localhost:8080/"
        },
        "id": "d83X1XaR7y_L",
        "outputId": "0e4c8e63-4df7-49ad-ca11-ddf9553f4d9c"
      },
      "source": [
        "type(car_info_dict)"
      ],
      "execution_count": 3,
      "outputs": [
        {
          "output_type": "execute_result",
          "data": {
            "text/plain": [
              "dict"
            ]
          },
          "metadata": {},
          "execution_count": 3
        }
      ]
    },
    {
      "cell_type": "markdown",
      "metadata": {
        "id": "uloFLWod7v0l"
      },
      "source": [
        "\"dict()\" constructer "
      ]
    },
    {
      "cell_type": "code",
      "metadata": {
        "colab": {
          "base_uri": "https://localhost:8080/"
        },
        "id": "N-dzahnD8M92",
        "outputId": "83733799-fbe5-4b40-c915-a0c0b224b6ff"
      },
      "source": [
        "# use a dict () constractor \n",
        "car_model_info = dict(brand=\"Tesla\", model=\"model 3\", year=\"2021\")\n",
        "\n",
        "print(car_model_info)"
      ],
      "execution_count": 4,
      "outputs": [
        {
          "output_type": "stream",
          "text": [
            "{'brand': 'Tesla', 'model': 'model 3', 'year': '2021'}\n"
          ],
          "name": "stdout"
        }
      ]
    },
    {
      "cell_type": "markdown",
      "metadata": {
        "id": "3n9nPEqr89EN"
      },
      "source": [
        "Accessing value "
      ]
    },
    {
      "cell_type": "code",
      "metadata": {
        "colab": {
          "base_uri": "https://localhost:8080/"
        },
        "id": "FJU7oSRN9DS-",
        "outputId": "615ea330-65b6-478e-d726-563b92789acd"
      },
      "source": [
        "# get the value of the \"model\" key\n",
        "model_value = car_info_dict[\"model\"]\n",
        "\n",
        "print(model_value)"
      ],
      "execution_count": 9,
      "outputs": [
        {
          "output_type": "stream",
          "text": [
            "Mustang\n"
          ],
          "name": "stdout"
        }
      ]
    },
    {
      "cell_type": "markdown",
      "metadata": {
        "id": "cooQdkPo-GpZ"
      },
      "source": [
        "\".get()\" to get value\n"
      ]
    },
    {
      "cell_type": "code",
      "metadata": {
        "colab": {
          "base_uri": "https://localhost:8080/"
        },
        "id": "sPdV4GgO-RWV",
        "outputId": "eae2345a-30b9-4f4d-8670-52c2a6ea17e8"
      },
      "source": [
        "model_value = car_info_dict.get(\"model\")\n",
        "\n",
        "print(model_value)"
      ],
      "execution_count": 10,
      "outputs": [
        {
          "output_type": "stream",
          "text": [
            "Mustang\n"
          ],
          "name": "stdout"
        }
      ]
    },
    {
      "cell_type": "markdown",
      "metadata": {
        "id": "2qso5q4c-o8z"
      },
      "source": [
        "change value "
      ]
    },
    {
      "cell_type": "code",
      "metadata": {
        "colab": {
          "base_uri": "https://localhost:8080/"
        },
        "id": "bZauGpef-t0M",
        "outputId": "e2621be0-dfdb-4fb1-82a5-2ee1dacab9f1"
      },
      "source": [
        "# creat dictionary \n",
        "car_info_dict = {\"brand\":\"Ford\",\"model\":\"mustang\",\"year\":2021}\n",
        "\n",
        "print(car_info_dict)\n",
        "\n",
        "car_info_dict[\"year\"] = 2021\n",
        "\n",
        "print(car_info_dict)"
      ],
      "execution_count": 11,
      "outputs": [
        {
          "output_type": "stream",
          "text": [
            "{'brand': 'Ford', 'model': 'mustang', 'year': 2021}\n",
            "{'brand': 'Ford', 'model': 'mustang', 'year': 2021}\n"
          ],
          "name": "stdout"
        }
      ]
    },
    {
      "cell_type": "markdown",
      "metadata": {
        "id": "jcb8P56e_xle"
      },
      "source": [
        "Loop Through a Dictionary "
      ]
    },
    {
      "cell_type": "code",
      "metadata": {
        "colab": {
          "base_uri": "https://localhost:8080/"
        },
        "id": "VyQy7rHL_2fd",
        "outputId": "19ebc235-8c9e-46d2-a46d-4a895892d7b1"
      },
      "source": [
        "# print only the keys of the dictionary\n",
        "for entry in car_info_dict:\n",
        "  print(entry)"
      ],
      "execution_count": 12,
      "outputs": [
        {
          "output_type": "stream",
          "text": [
            "brand\n",
            "model\n",
            "year\n"
          ],
          "name": "stdout"
        }
      ]
    },
    {
      "cell_type": "markdown",
      "metadata": {
        "id": "WydP8agGAUI2"
      },
      "source": [
        "print only the keys of dictonary"
      ]
    },
    {
      "cell_type": "code",
      "metadata": {
        "colab": {
          "base_uri": "https://localhost:8080/"
        },
        "id": "pew0kW7EAt0k",
        "outputId": "f76d4df0-9e2e-44cb-ca39-4ca0798e6d00"
      },
      "source": [
        "# print only the value of the key of dictionary \n",
        "for entry in car_info_dict:\n",
        "  print(car_info_dict[entry])"
      ],
      "execution_count": 13,
      "outputs": [
        {
          "output_type": "stream",
          "text": [
            "Ford\n",
            "mustang\n",
            "2021\n"
          ],
          "name": "stdout"
        }
      ]
    },
    {
      "cell_type": "markdown",
      "metadata": {
        "id": "wRECIAXNBk1k"
      },
      "source": [
        "use the \".values()\""
      ]
    },
    {
      "cell_type": "code",
      "metadata": {
        "colab": {
          "base_uri": "https://localhost:8080/"
        },
        "id": "TypKpi1FBqqH",
        "outputId": "27eb234d-4fa1-415c-8fec-884b0a52da2f"
      },
      "source": [
        "for entry in car_info_dict.values():\n",
        "  print(entry)"
      ],
      "execution_count": 14,
      "outputs": [
        {
          "output_type": "stream",
          "text": [
            "Ford\n",
            "mustang\n",
            "2021\n"
          ],
          "name": "stdout"
        }
      ]
    },
    {
      "cell_type": "code",
      "metadata": {
        "colab": {
          "base_uri": "https://localhost:8080/"
        },
        "id": "YMezEsIQB8qU",
        "outputId": "c882dd9f-9ac0-436f-c0c1-728d2350f33d"
      },
      "source": [
        "for key,value in car_info_dict.items():\n",
        "  print(key,value)"
      ],
      "execution_count": 16,
      "outputs": [
        {
          "output_type": "stream",
          "text": [
            "brand Ford\n",
            "model mustang\n",
            "year 2021\n"
          ],
          "name": "stdout"
        }
      ]
    },
    {
      "cell_type": "markdown",
      "metadata": {
        "id": "nkG3Lu9gCYxr"
      },
      "source": [
        "Check if key exists"
      ]
    },
    {
      "cell_type": "code",
      "metadata": {
        "colab": {
          "base_uri": "https://localhost:8080/"
        },
        "id": "wKo8racBCeXs",
        "outputId": "648cc080-0f05-4a90-c661-2e7c1020852b"
      },
      "source": [
        "# creat dictonary \n",
        "car_info_dict = {\"brand\":\"Ford\",\"model\":\"Mustang\",\"year\":1964}\n",
        "\n",
        "if \"brand\" in car_info_dict:\n",
        "  print(\"brand info is available\")"
      ],
      "execution_count": 17,
      "outputs": [
        {
          "output_type": "stream",
          "text": [
            "brand info is available\n"
          ],
          "name": "stdout"
        }
      ]
    },
    {
      "cell_type": "markdown",
      "metadata": {
        "id": "deHDJ_OWDTbM"
      },
      "source": [
        "Dictionary Length "
      ]
    },
    {
      "cell_type": "code",
      "metadata": {
        "colab": {
          "base_uri": "https://localhost:8080/"
        },
        "id": "HDapm8dcDYR_",
        "outputId": "6afbaec6-8351-4bf8-96a3-4f98d50a6bc3"
      },
      "source": [
        "# creat dictionary\n",
        "car_info_dict = {\"brand\":\"ford\",\"model\":\"Mustang\",\"year\":1964}\n",
        "print(len(car_info_dict))"
      ],
      "execution_count": 18,
      "outputs": [
        {
          "output_type": "stream",
          "text": [
            "3\n"
          ],
          "name": "stdout"
        }
      ]
    },
    {
      "cell_type": "markdown",
      "metadata": {
        "id": "MnMyVU1_LIGH"
      },
      "source": [
        "Adding Items"
      ]
    },
    {
      "cell_type": "code",
      "metadata": {
        "colab": {
          "base_uri": "https://localhost:8080/"
        },
        "id": "-WhtWgdGLLH7",
        "outputId": "be098a80-7ee5-4950-e6a4-1347c3657945"
      },
      "source": [
        "# creat dictionary\n",
        "car_info_dict = {\"brand\":\"ford\",\"model\":\"Mustang\",\"year\":1964}\n",
        "print(car_info_dict)\n",
        "car_info_dict[\"color\"] = \"green\"\n",
        "print(car_info_dict)\n"
      ],
      "execution_count": 19,
      "outputs": [
        {
          "output_type": "stream",
          "text": [
            "{'brand': 'ford', 'model': 'Mustang', 'year': 1964}\n",
            "{'brand': 'ford', 'model': 'Mustang', 'year': 1964, 'color': 'green'}\n"
          ],
          "name": "stdout"
        }
      ]
    },
    {
      "cell_type": "markdown",
      "metadata": {
        "id": "Kp5kQFlILpZW"
      },
      "source": [
        "Removing Items"
      ]
    },
    {
      "cell_type": "code",
      "metadata": {
        "colab": {
          "base_uri": "https://localhost:8080/"
        },
        "id": "lL49YvoDLsms",
        "outputId": "9d613d5e-b595-46b3-aad1-d2fdd260b9e6"
      },
      "source": [
        "# initialze dictionary \n",
        "car_model_info = {\"brand\":\"Tesla\",\"model\":\"Model 3\", \"year\": 20201}\n",
        "print(car_model_info)\n",
        "car_model_info.pop(\"model\")\n",
        "print(car_model_info)"
      ],
      "execution_count": 20,
      "outputs": [
        {
          "output_type": "stream",
          "text": [
            "{'brand': 'Tesla', 'model': 'Model 3', 'year': 20201}\n",
            "{'brand': 'Tesla', 'year': 20201}\n"
          ],
          "name": "stdout"
        }
      ]
    },
    {
      "cell_type": "code",
      "metadata": {
        "colab": {
          "base_uri": "https://localhost:8080/"
        },
        "id": "oxDWvOuDMNbD",
        "outputId": "9356f6c8-0ba1-40d6-ddab-190f299f2131"
      },
      "source": [
        "# initialize dictonary\n",
        "car_model_info = {\"brand\":\"Tesla\",\"model\":\"Model 3\", \"year\": 20201}\n",
        "print(car_model_info)\n",
        "car_model_info.popitem()\n",
        "print(car_model_info)"
      ],
      "execution_count": 21,
      "outputs": [
        {
          "output_type": "stream",
          "text": [
            "{'brand': 'Tesla', 'model': 'Model 3', 'year': 20201}\n",
            "{'brand': 'Tesla', 'model': 'Model 3'}\n"
          ],
          "name": "stdout"
        }
      ]
    },
    {
      "cell_type": "code",
      "metadata": {
        "id": "VYph4rnWNDIP"
      },
      "source": [
        "# initialize dictionary "
      ],
      "execution_count": null,
      "outputs": []
    },
    {
      "cell_type": "code",
      "metadata": {
        "colab": {
          "base_uri": "https://localhost:8080/"
        },
        "id": "3VCDRVVqNQNz",
        "outputId": "34e1b74b-197d-45dd-ae80-37b17483fac3"
      },
      "source": [
        "car_model_info = {\"brand\":\"Tesla\",\"model\":\"Model 3\", \"year\": 20201}\n",
        "print(car_model_info)\n",
        "del car_model_info[\"model\"]\n",
        "print(car_model_info)"
      ],
      "execution_count": 23,
      "outputs": [
        {
          "output_type": "stream",
          "text": [
            "{'brand': 'Tesla', 'model': 'Model 3', 'year': 20201}\n",
            "{'brand': 'Tesla', 'year': 20201}\n"
          ],
          "name": "stdout"
        }
      ]
    },
    {
      "cell_type": "markdown",
      "metadata": {
        "id": "P29rrifpNgQb"
      },
      "source": [
        "Copy a Dictionary"
      ]
    },
    {
      "cell_type": "code",
      "metadata": {
        "colab": {
          "base_uri": "https://localhost:8080/"
        },
        "id": "6OQh7VZxNjje",
        "outputId": "3401385e-6b59-4fde-84e9-4d1af9b58e9b"
      },
      "source": [
        "car_model_info = {\"brand\":\"Tesla\",\"model\":\"Model 3\", \"year\": 20201}\n",
        "print(car_model_info)\n",
        "new_car_model_info = car_model_info.copy()\n",
        "print(car_model_info)"
      ],
      "execution_count": 24,
      "outputs": [
        {
          "output_type": "stream",
          "text": [
            "{'brand': 'Tesla', 'model': 'Model 3', 'year': 20201}\n",
            "{'brand': 'Tesla', 'model': 'Model 3', 'year': 20201}\n"
          ],
          "name": "stdout"
        }
      ]
    },
    {
      "cell_type": "code",
      "metadata": {
        "colab": {
          "base_uri": "https://localhost:8080/"
        },
        "id": "GXMhmuUQN986",
        "outputId": "1fa0d147-d19f-4a34-ea83-3c26d82abad7"
      },
      "source": [
        "car_model_info = {\"brand\":\"Tesla\",\"model\":\"Model 3\", \"year\": 20201}\n",
        "print(car_model_info)\n",
        "new_car_model_info = dict(car_model_info)\n",
        "print(car_model_info)"
      ],
      "execution_count": 25,
      "outputs": [
        {
          "output_type": "stream",
          "text": [
            "{'brand': 'Tesla', 'model': 'Model 3', 'year': 20201}\n",
            "{'brand': 'Tesla', 'model': 'Model 3', 'year': 20201}\n"
          ],
          "name": "stdout"
        }
      ]
    },
    {
      "cell_type": "markdown",
      "metadata": {
        "id": "LRWZjBvtOKfa"
      },
      "source": [
        "Nested Dictionary"
      ]
    },
    {
      "cell_type": "code",
      "metadata": {
        "colab": {
          "base_uri": "https://localhost:8080/"
        },
        "id": "lxsCl05xOOPz",
        "outputId": "0265b6a1-dcab-4f39-c385-a1a3040d26fa"
      },
      "source": [
        "# creat a nested dictionary\n",
        "family = {\"child1\" : {\"name \": \"Email\", \"year\" : 2021}, \"child2\" :{\"name\" : \"Tobias\",\"year\": 2012\n",
        "                                                                   \n",
        "              }, \"child3\" :{\"name\": \"Linus\",\"year\":2011}}\n",
        "print(family)"
      ],
      "execution_count": 27,
      "outputs": [
        {
          "output_type": "stream",
          "text": [
            "{'child1': {'name ': 'Email', 'year': 2021}, 'child2': {'name': 'Tobias', 'year': 2012}, 'child3': {'name': 'Linus', 'year': 2011}}\n"
          ],
          "name": "stdout"
        }
      ]
    },
    {
      "cell_type": "code",
      "metadata": {
        "colab": {
          "base_uri": "https://localhost:8080/"
        },
        "id": "pJYlY8owPw8U",
        "outputId": "c588d45b-c888-4ca3-de4c-b459526cbd61"
      },
      "source": [
        "# creat three separate dictionary \n",
        "\n",
        "child1 = {\n",
        "  \"name\" : \"Emil\",\n",
        "  \"year\" : 2021\n",
        "}\n",
        "child2 = {\n",
        "  \"name\" : \"Tobias\",\n",
        "  \"year\" : 2012\n",
        "}\n",
        "child3 = {\n",
        "  \"name\" : \"Linus\",\n",
        "  \"year\" : 2011\n",
        "}\n",
        "\n",
        "family = {\n",
        "    \"child1\" : child1,\n",
        "    \"child2\" : child2,\n",
        "    \"child3\" : child3\n",
        "}\n",
        "print(family)"
      ],
      "execution_count": 35,
      "outputs": [
        {
          "output_type": "stream",
          "text": [
            "{'child1': {'name': 'Emil', 'year': 2021}, 'child2': {'name': 'Tobias', 'year': 2012}, 'child3': {'name': 'Linus', 'year': 2011}}\n"
          ],
          "name": "stdout"
        }
      ]
    }
  ]
}