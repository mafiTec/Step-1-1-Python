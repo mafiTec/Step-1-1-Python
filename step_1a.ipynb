{
  "nbformat": 4,
  "nbformat_minor": 0,
  "metadata": {
    "colab": {
      "name": "step-1a.ipynb",
      "provenance": [],
      "collapsed_sections": []
    },
    "kernelspec": {
      "name": "python3",
      "display_name": "Python 3"
    },
    "language_info": {
      "name": "python"
    }
  },
  "cells": [
    {
      "cell_type": "markdown",
      "metadata": {
        "id": "gcTLVE26TGV3"
      },
      "source": [
        "Exersise 1\n",
        "write a print function that prints \"i am  new to phython \""
      ]
    },
    {
      "cell_type": "code",
      "metadata": {
        "colab": {
          "base_uri": "https://localhost:8080/"
        },
        "id": "gZcT0T1JTgBX",
        "outputId": "a4a30555-4bbe-43c9-c9c9-e564853d458f"
      },
      "source": [
        "print('i am new to phython!')"
      ],
      "execution_count": null,
      "outputs": [
        {
          "output_type": "stream",
          "text": [
            "i am new to phython!\n"
          ],
          "name": "stdout"
        }
      ]
    },
    {
      "cell_type": "code",
      "metadata": {
        "id": "p255T3GDToQm"
      },
      "source": [
        ""
      ],
      "execution_count": null,
      "outputs": []
    },
    {
      "cell_type": "markdown",
      "metadata": {
        "id": "rBs_TWR2TprP"
      },
      "source": [
        "Exersise 2 Add a comment "
      ]
    },
    {
      "cell_type": "code",
      "metadata": {
        "colab": {
          "base_uri": "https://localhost:8080/"
        },
        "id": "YijO8EyZUAMe",
        "outputId": "9729bd27-5abf-48eb-bf29-4f52277789e6"
      },
      "source": [
        "# this is a single comment\n",
        "print('i am learing python')\n",
        "\n",
        "# comments can be added like this as well\n",
        "\n",
        "\n",
        "print(\"it possible to write my code blocks without python using\")"
      ],
      "execution_count": null,
      "outputs": [
        {
          "output_type": "stream",
          "text": [
            "i am learing python\n",
            "it possible to write my code blocks without python using\n"
          ],
          "name": "stdout"
        }
      ]
    },
    {
      "cell_type": "markdown",
      "metadata": {
        "id": "V1fqNpNCLCvT"
      },
      "source": [
        "Exersise 3 creat a varible called age and add your age to it"
      ]
    },
    {
      "cell_type": "code",
      "metadata": {
        "colab": {
          "base_uri": "https://localhost:8080/"
        },
        "id": "VnLGqnPGL73F",
        "outputId": "5c44c0ab-ab19-4ea1-b47b-81b1accb8cdf"
      },
      "source": [
        "# bind number 35 to variable 'age'\n",
        "age = 35 # the value of 35 is assigned to age\n",
        "\n",
        "# print value of 'age'\n",
        "print(age)"
      ],
      "execution_count": null,
      "outputs": [
        {
          "output_type": "stream",
          "text": [
            "35\n"
          ],
          "name": "stdout"
        }
      ]
    },
    {
      "cell_type": "markdown",
      "metadata": {
        "id": "EE4_NlDpMe05"
      },
      "source": [
        "Exersise 4 creat tow input with one taking the name and other taking the age"
      ]
    },
    {
      "cell_type": "code",
      "metadata": {
        "colab": {
          "base_uri": "https://localhost:8080/"
        },
        "id": "hlNbQErGMyE3",
        "outputId": "ff3c93a5-9e48-42b8-827c-79550b6f790b"
      },
      "source": [
        "name = input ('what is your name?')\n",
        "print ('hey Haile')\n",
        "age = input ('how old are you?')\n",
        "print('i am glad you start learing python at the age of 35')\n"
      ],
      "execution_count": null,
      "outputs": [
        {
          "output_type": "stream",
          "text": [
            "what is your name?Haile\n",
            "hey Haile\n",
            "how old are you?35 years old\n",
            "i am glad you start learing python at the age of 35\n"
          ],
          "name": "stdout"
        }
      ]
    },
    {
      "cell_type": "markdown",
      "metadata": {
        "id": "SsxFN3QtN-gR"
      },
      "source": [
        "Exersise 5 what is the data type of thise three varible"
      ]
    },
    {
      "cell_type": "code",
      "metadata": {
        "colab": {
          "base_uri": "https://localhost:8080/"
        },
        "id": "0TphLriSORvd",
        "outputId": "4ef0f714-d36a-4788-88f4-38431ba95a6d"
      },
      "source": [
        "#creat int type varible\n",
        "discount = 43.8 #43.8 is integer\n",
        "\n",
        "#check type of varible \n",
        "type(discount)\n"
      ],
      "execution_count": null,
      "outputs": [
        {
          "output_type": "execute_result",
          "data": {
            "text/plain": [
              "float"
            ]
          },
          "metadata": {
            "tags": []
          },
          "execution_count": 3
        }
      ]
    },
    {
      "cell_type": "code",
      "metadata": {
        "colab": {
          "base_uri": "https://localhost:8080/"
        },
        "id": "dbM3AwSsPTtw",
        "outputId": "adf4cd1f-8988-4372-d72e-89dca10dbed1"
      },
      "source": [
        "#creat float type of varible\n",
        "hight = 143 #143 is a decimal number with a characteristic and mantissa\n",
        "\n",
        "#cheak type \n",
        "type(hight)\n"
      ],
      "execution_count": null,
      "outputs": [
        {
          "output_type": "execute_result",
          "data": {
            "text/plain": [
              "int"
            ]
          },
          "metadata": {
            "tags": []
          },
          "execution_count": 4
        }
      ]
    },
    {
      "cell_type": "code",
      "metadata": {
        "colab": {
          "base_uri": "https://localhost:8080/"
        },
        "id": "41fuEYP4QF2x",
        "outputId": "979f639e-a70c-43d5-bece-d715e071caa7"
      },
      "source": [
        "#define a string\n",
        "address_string = '#301,pelican street'\n",
        "\n",
        "#cheak type\n",
        "type(address_string)"
      ],
      "execution_count": null,
      "outputs": [
        {
          "output_type": "execute_result",
          "data": {
            "text/plain": [
              "str"
            ]
          },
          "metadata": {
            "tags": []
          },
          "execution_count": 5
        }
      ]
    },
    {
      "cell_type": "markdown",
      "metadata": {
        "id": "fAqI_4SfQ2x2"
      },
      "source": [
        "Exersise 6 make a list of your favourite coor, food and place and save it a list called my_favs"
      ]
    },
    {
      "cell_type": "code",
      "metadata": {
        "colab": {
          "base_uri": "https://localhost:8080/"
        },
        "id": "50urhO4vRWGK",
        "outputId": "fd08d450-13c4-4d0e-c8f8-9f9066e0af6a"
      },
      "source": [
        "#define a list\n",
        "my_favs = ['green','yellow','red']\n",
        "print(my_favs)\n",
        "\n",
        "#check length of list\n",
        "print(len(my_favs))\n",
        "\n",
        "#check type\n",
        "type(my_favs)"
      ],
      "execution_count": null,
      "outputs": [
        {
          "output_type": "stream",
          "text": [
            "['green', 'yellow', 'red']\n",
            "3\n"
          ],
          "name": "stdout"
        },
        {
          "output_type": "execute_result",
          "data": {
            "text/plain": [
              "list"
            ]
          },
          "metadata": {
            "tags": []
          },
          "execution_count": 6
        }
      ]
    },
    {
      "cell_type": "code",
      "metadata": {
        "id": "mT_O1gQ9ThbJ"
      },
      "source": [
        ""
      ],
      "execution_count": null,
      "outputs": []
    },
    {
      "cell_type": "code",
      "metadata": {
        "colab": {
          "base_uri": "https://localhost:8080/"
        },
        "id": "r0Ppgi9ZTkac",
        "outputId": "15ede684-2514-4d3c-9f01-f37dfb9b0f76"
      },
      "source": [
        "#define a list\n",
        "my_favs = ['pasta','cheken','chese burger']\n",
        "print(my_favs)\n",
        "\n",
        "#check length of list\n",
        "print(len(my_favs))\n",
        "\n",
        "#check type\n",
        "type(my_favs)"
      ],
      "execution_count": null,
      "outputs": [
        {
          "output_type": "stream",
          "text": [
            "['pasta', 'cheken', 'chese burger']\n",
            "3\n"
          ],
          "name": "stdout"
        },
        {
          "output_type": "execute_result",
          "data": {
            "text/plain": [
              "list"
            ]
          },
          "metadata": {
            "tags": []
          },
          "execution_count": 7
        }
      ]
    },
    {
      "cell_type": "code",
      "metadata": {
        "id": "37D2QaB4T59Z"
      },
      "source": [
        ""
      ],
      "execution_count": null,
      "outputs": []
    },
    {
      "cell_type": "code",
      "metadata": {
        "colab": {
          "base_uri": "https://localhost:8080/"
        },
        "id": "j_EHawILT7fQ",
        "outputId": "a1cc295c-1368-4cdb-bda9-9194bafe300d"
      },
      "source": [
        "#define a list\n",
        "my_favs = ['Washington DC','Mary land','Virginia']\n",
        "print(my_favs)\n",
        "\n",
        "#check length of list\n",
        "print(len(my_favs))\n",
        "\n",
        "#check type\n",
        "type(my_favs)"
      ],
      "execution_count": null,
      "outputs": [
        {
          "output_type": "stream",
          "text": [
            "['Washington DC', 'Mary land', 'Virginia']\n",
            "3\n"
          ],
          "name": "stdout"
        },
        {
          "output_type": "execute_result",
          "data": {
            "text/plain": [
              "list"
            ]
          },
          "metadata": {
            "tags": []
          },
          "execution_count": 8
        }
      ]
    },
    {
      "cell_type": "markdown",
      "metadata": {
        "id": "U8ew3muhUMii"
      },
      "source": [
        "Exersise 7 using the rang function from 4 to 40 and then check the length"
      ]
    },
    {
      "cell_type": "code",
      "metadata": {
        "colab": {
          "base_uri": "https://localhost:8080/"
        },
        "id": "47KZaQpJUeep",
        "outputId": "f95c36fd-6926-4ae6-89a2-293af790a7a6"
      },
      "source": [
        "# define a range\n",
        "range_function = range(40)\n",
        "print(range_function)\n",
        "\n",
        "# check length of the range\n",
        "print(len(range_function))\n",
        "\n",
        "# check type\n",
        "type(range_function)"
      ],
      "execution_count": null,
      "outputs": [
        {
          "output_type": "stream",
          "text": [
            "range(0, 40)\n",
            "40\n"
          ],
          "name": "stdout"
        },
        {
          "output_type": "execute_result",
          "data": {
            "text/plain": [
              "range"
            ]
          },
          "metadata": {
            "tags": []
          },
          "execution_count": 14
        }
      ]
    },
    {
      "cell_type": "code",
      "metadata": {
        "colab": {
          "base_uri": "https://localhost:8080/"
        },
        "id": "JwTQRXs8WXyZ",
        "outputId": "f8344bd9-5709-4081-ceed-0f46a5cf3126"
      },
      "source": [
        "# define range with (start,stop,step)\n",
        "range_function = range(4,40)\n",
        "print(range_function)\n",
        "\n",
        "# check length of the range\n",
        "print(len(range_function))\n",
        "\n",
        "# check type\n",
        "type(range_function)"
      ],
      "execution_count": null,
      "outputs": [
        {
          "output_type": "stream",
          "text": [
            "range(4, 40)\n",
            "36\n"
          ],
          "name": "stdout"
        },
        {
          "output_type": "execute_result",
          "data": {
            "text/plain": [
              "range"
            ]
          },
          "metadata": {
            "tags": []
          },
          "execution_count": 13
        }
      ]
    },
    {
      "cell_type": "code",
      "metadata": {
        "colab": {
          "base_uri": "https://localhost:8080/"
        },
        "id": "sDfWp5YcXHhf",
        "outputId": "84d15d61-b6a4-43f8-e6eb-552a2052be34"
      },
      "source": [
        "# define range with (start,stop,step)\n",
        "range_function  = range (20,30)\n",
        "print(range_function)\n",
        "\n",
        "# check length of the range\n",
        "print(len(range_function))\n",
        "\n",
        "# check type\n",
        "type(range_function)"
      ],
      "execution_count": null,
      "outputs": [
        {
          "output_type": "stream",
          "text": [
            "range(20, 30)\n",
            "10\n"
          ],
          "name": "stdout"
        },
        {
          "output_type": "execute_result",
          "data": {
            "text/plain": [
              "range"
            ]
          },
          "metadata": {
            "tags": []
          },
          "execution_count": 21
        }
      ]
    },
    {
      "cell_type": "markdown",
      "metadata": {
        "id": "AdfQAGlyYF8x"
      },
      "source": [
        "Exersise 8 make a dictionary with students name and their scores!"
      ]
    },
    {
      "cell_type": "code",
      "metadata": {
        "colab": {
          "base_uri": "https://localhost:8080/"
        },
        "id": "cHAVGnnoYlDW",
        "outputId": "bdcfefd5-0eb6-4c22-8460-b8640700870c"
      },
      "source": [
        "# define a dictionary\n",
        "b = {'Jake': 70, 'Mako': 75, 'Alex': 78.5}\n",
        "print(b)\n",
        "\n",
        "# check type\n",
        "type(b)"
      ],
      "execution_count": null,
      "outputs": [
        {
          "output_type": "stream",
          "text": [
            "{'Jake': 70, 'Mako': 75, 'Alex': 78.5}\n"
          ],
          "name": "stdout"
        },
        {
          "output_type": "execute_result",
          "data": {
            "text/plain": [
              "dict"
            ]
          },
          "metadata": {
            "tags": []
          },
          "execution_count": 28
        }
      ]
    },
    {
      "cell_type": "markdown",
      "metadata": {
        "id": "MaWnHQXhaGdU"
      },
      "source": [
        "Exersise 9 Create a variable with the value of pi as 3.14, create a new variable as radius and assign it a float value, this will be the radius of a circle and then output the area of the circle using the formula pi*radius^2"
      ]
    },
    {
      "cell_type": "code",
      "metadata": {
        "colab": {
          "base_uri": "https://localhost:8080/"
        },
        "id": "xBhbdpuNGO1I",
        "outputId": "2d74f840-d675-4b7b-c3a9-9a381e51aaa3"
      },
      "source": [
        "from math import pi\n",
        "r = float(input (\"Input the radius of the circle : \"))\n",
        "print (\"The area of the circle with radius \" + str(r) + \" is: \" + str(pi * r**2))\n"
      ],
      "execution_count": null,
      "outputs": [
        {
          "output_type": "stream",
          "text": [
            "Input the radius of the circle : 3.14\n",
            "The area of the circle with radius 3.14 is: 30.974846927333925\n"
          ],
          "name": "stdout"
        }
      ]
    },
    {
      "cell_type": "markdown",
      "metadata": {
        "id": "UbGmre7EKYh2"
      },
      "source": [
        "EXersise 10 In the last excercise you created a program to get the area of a circle , create a print function that checks if the area that your program created is bigger than 50 or not"
      ]
    },
    {
      "cell_type": "code",
      "metadata": {
        "colab": {
          "base_uri": "https://localhost:8080/"
        },
        "id": "j88Jtb4fafBP",
        "outputId": "2b28d841-d8f5-4175-b0f2-d4d95eef35fc"
      },
      "source": [
        "# Greater Than \n",
        "c = 3.14\n",
        "r = 30.974846927333925\n",
        "\n",
        "print(c > r)"
      ],
      "execution_count": null,
      "outputs": [
        {
          "output_type": "stream",
          "text": [
            "False\n"
          ],
          "name": "stdout"
        }
      ]
    },
    {
      "cell_type": "code",
      "metadata": {
        "colab": {
          "base_uri": "https://localhost:8080/"
        },
        "id": "CMAA6rA_caU9",
        "outputId": "664bc7bf-e6a7-43b9-caaa-491da281d737"
      },
      "source": [
        "# Greater Than or Equal\n",
        "c = 3.14\n",
        "r = 30.974846927333925\n",
        "\n",
        "print(c >= r)"
      ],
      "execution_count": null,
      "outputs": [
        {
          "output_type": "stream",
          "text": [
            "False\n"
          ],
          "name": "stdout"
        }
      ]
    },
    {
      "cell_type": "code",
      "metadata": {
        "colab": {
          "base_uri": "https://localhost:8080/"
        },
        "id": "Kd_aoGbPchRm",
        "outputId": "5c48245d-2bb4-4d60-e671-92b24904283e"
      },
      "source": [
        "# Less Than \n",
        "c = 3.14\n",
        "r = 30.974846927333925\n",
        "\n",
        "print(c < r)"
      ],
      "execution_count": null,
      "outputs": [
        {
          "output_type": "stream",
          "text": [
            "True\n"
          ],
          "name": "stdout"
        }
      ]
    },
    {
      "cell_type": "code",
      "metadata": {
        "colab": {
          "base_uri": "https://localhost:8080/"
        },
        "id": "e4CDvdDcctIN",
        "outputId": "e99e9a93-9b55-4e8c-9574-960dea3eb1e2"
      },
      "source": [
        "\n",
        "# Less Than or Equal \n",
        "c = 3.14\n",
        "r = 30.974846927333925\n",
        "\n",
        "print(c <= r)"
      ],
      "execution_count": null,
      "outputs": [
        {
          "output_type": "stream",
          "text": [
            "True\n"
          ],
          "name": "stdout"
        }
      ]
    },
    {
      "cell_type": "code",
      "metadata": {
        "colab": {
          "base_uri": "https://localhost:8080/"
        },
        "id": "iYLw7KaPc1Fj",
        "outputId": "7f99d5ab-63d1-417a-ba63-baa7ff7856e4"
      },
      "source": [
        "# Equality Test #1\n",
        "c = 3.14\n",
        "r = 30.974846927333925\n",
        "\n",
        "print(c == r)"
      ],
      "execution_count": null,
      "outputs": [
        {
          "output_type": "stream",
          "text": [
            "False\n"
          ],
          "name": "stdout"
        }
      ]
    },
    {
      "cell_type": "code",
      "metadata": {
        "colab": {
          "base_uri": "https://localhost:8080/"
        },
        "id": "oszEe1Ofc-9v",
        "outputId": "7787178e-8c3e-4aeb-b4bb-3d0656085179"
      },
      "source": [
        "\n",
        "# Equality Test #2\n",
        "c = 3.14\n",
        "r = 30.974846927333925\n",
        "\n",
        "print(c == r)"
      ],
      "execution_count": null,
      "outputs": [
        {
          "output_type": "stream",
          "text": [
            "False\n"
          ],
          "name": "stdout"
        }
      ]
    },
    {
      "cell_type": "code",
      "metadata": {
        "colab": {
          "base_uri": "https://localhost:8080/"
        },
        "id": "iKqf1nztdGTm",
        "outputId": "cff989ce-fce1-4108-b0df-11335e4ac2fb"
      },
      "source": [
        "# Inequality Test #1\n",
        "c = 3.14\n",
        "r = 30.974846927333925\n",
        "\n",
        "print(c != r)"
      ],
      "execution_count": null,
      "outputs": [
        {
          "output_type": "stream",
          "text": [
            "True\n"
          ],
          "name": "stdout"
        }
      ]
    },
    {
      "cell_type": "code",
      "metadata": {
        "colab": {
          "base_uri": "https://localhost:8080/"
        },
        "id": "fUlxp-J2dNt1",
        "outputId": "0d8c0525-6986-4c8d-af26-9e85fc6dc6ee"
      },
      "source": [
        "# Inequality Test #2\n",
        "c = 3.14\n",
        "r = 30.974846927333925\n",
        "\n",
        "print(c != r)"
      ],
      "execution_count": null,
      "outputs": [
        {
          "output_type": "stream",
          "text": [
            "True\n"
          ],
          "name": "stdout"
        }
      ]
    },
    {
      "cell_type": "markdown",
      "metadata": {
        "id": "RYBkLCxTNUdP"
      },
      "source": [
        "Exersise 11 Create a print function for our circle area generator to check if the area is between 20 and 50"
      ]
    },
    {
      "cell_type": "code",
      "metadata": {
        "colab": {
          "base_uri": "https://localhost:8080/"
        },
        "id": "00y1Vd8MNvlL",
        "outputId": "6f5f6649-f03a-405e-b6ba-6e20c7c4807c"
      },
      "source": [
        "# a and b are true\n",
        "a = 30.974846927333925\n",
        "b = 3.14\n",
        "\n",
        "print(a and b)"
      ],
      "execution_count": null,
      "outputs": [
        {
          "output_type": "stream",
          "text": [
            "3.14\n"
          ],
          "name": "stdout"
        }
      ]
    },
    {
      "cell_type": "code",
      "metadata": {
        "colab": {
          "base_uri": "https://localhost:8080/"
        },
        "id": "eghiH-tZS578",
        "outputId": "4b1b2430-1d2c-49d6-f4c2-2eecffb773a1"
      },
      "source": [
        "\n",
        "# only a is true \n",
        "a = 20\n",
        "b = 50\n",
        "\n",
        "print(a and b)"
      ],
      "execution_count": null,
      "outputs": [
        {
          "output_type": "stream",
          "text": [
            "50\n"
          ],
          "name": "stdout"
        }
      ]
    },
    {
      "cell_type": "code",
      "metadata": {
        "id": "ut_jK3uzUTwV"
      },
      "source": [
        ""
      ],
      "execution_count": null,
      "outputs": []
    },
    {
      "cell_type": "code",
      "metadata": {
        "colab": {
          "base_uri": "https://localhost:8080/"
        },
        "id": "xHzg0tZ4UUXY",
        "outputId": "a7142e2c-1fef-44ac-e83a-f5f8250718ec"
      },
      "source": [
        " # only r is true\n",
        "r = float(input (\" 30: \"))\n",
        "pi = 3.14\n",
        "print (\"20 \" + str(r) + \" is:50 \" + str(pi * r**2))\n"
      ],
      "execution_count": null,
      "outputs": [
        {
          "output_type": "stream",
          "text": [
            " 30: 3.14\n",
            "20 3.14 is:50 30.959144000000002\n"
          ],
          "name": "stdout"
        }
      ]
    },
    {
      "cell_type": "code",
      "metadata": {
        "colab": {
          "base_uri": "https://localhost:8080/"
        },
        "id": "kVeUpI6hfEV-",
        "outputId": "08db7258-d4ff-41f9-9b93-666392684899"
      },
      "source": [
        "# a and b are true\n",
        "a = 20\n",
        "b = 50\n",
        "\n",
        "print(a and b)"
      ],
      "execution_count": null,
      "outputs": [
        {
          "output_type": "stream",
          "text": [
            "50\n"
          ],
          "name": "stdout"
        }
      ]
    },
    {
      "cell_type": "code",
      "metadata": {
        "colab": {
          "base_uri": "https://localhost:8080/"
        },
        "id": "YMv0Ax7Xnr7_",
        "outputId": "112cba2e-8fe6-4e4f-ad4c-da17027ac20a"
      },
      "source": [
        "# set values of x, y and z for numeric operators exploration\n",
        "x = 3.14  # integer value\n",
        "y = 2.0 # float value\n",
        "z = x,y # negative integer\n",
        "\n",
        "#(run this cell to initialize values for the next few cells!)\n",
        "type( z)"
      ],
      "execution_count": null,
      "outputs": [
        {
          "output_type": "execute_result",
          "data": {
            "text/plain": [
              "tuple"
            ]
          },
          "metadata": {
            "tags": []
          },
          "execution_count": 16
        }
      ]
    }
  ]
}